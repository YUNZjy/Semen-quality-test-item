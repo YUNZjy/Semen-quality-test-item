{
 "cells": [
  {
   "attachments": {},
   "cell_type": "markdown",
   "metadata": {},
   "source": [
    "# 第三方库导入"
   ]
  },
  {
   "cell_type": "code",
   "execution_count": 2,
   "metadata": {},
   "outputs": [
    {
     "name": "stderr",
     "output_type": "stream",
     "text": [
      "d:\\ProgramData\\Anaconda3\\envs\\paddle_env\\lib\\site-packages\\tqdm\\auto.py:21: TqdmWarning: IProgress not found. Please update jupyter and ipywidgets. See https://ipywidgets.readthedocs.io/en/stable/user_install.html\n",
      "  from .autonotebook import tqdm as notebook_tqdm\n"
     ]
    }
   ],
   "source": [
    "import pandas as pd \n",
    "import numpy as np  \n",
    "import matplotlib.pyplot as plt  \n",
    "from sklearn.model_selection import cross_val_score, ShuffleSplit, train_test_split  \n",
    "from sklearn.datasets import make_classification  # 用于生成模拟数据  \n",
    "from sklearn.base import clone  \n",
    "from sklearn.metrics import accuracy_score  \n",
    "from tqdm import tqdm  \n",
    "from sklearn.preprocessing import StandardScaler    \n",
    "from sklearn.svm import SVC   \n",
    "from sklearn.discriminant_analysis import LinearDiscriminantAnalysis  \n",
    "from sklearn.gaussian_process import GaussianProcessClassifier  \n",
    "import seaborn as sns \n",
    "from sklearn.model_selection import train_test_split \n",
    "import seaborn as sns \n",
    "from sklearn import metrics \n",
    "import plotly.express as px \n",
    "from sklearn.pipeline import Pipeline \n",
    "from sklearn.multiclass import OneVsRestClassifier\n",
    "#models \n",
    "from sklearn.linear_model import LogisticRegression \n",
    "from sklearn.tree import DecisionTreeClassifier \n",
    "from sklearn.ensemble import GradientBoostingClassifier \n",
    "from sklearn.ensemble import RandomForestClassifier \n",
    "from sklearn.neighbors import KNeighborsClassifier \n",
    "from sklearn.naive_bayes import BernoulliNB \n",
    "from sklearn.ensemble import BaggingClassifier \n",
    "from sklearn.ensemble import AdaBoostClassifier \n",
    "from sklearn.naive_bayes import GaussianNB \n",
    "from sklearn.neural_network import MLPClassifier \n",
    "from sklearn.linear_model import SGDClassifier \n",
    "from xgboost import XGBClassifier \n",
    "from catboost import CatBoostClassifier \n",
    "import xgboost as xgb \n",
    "import catboost \n",
    "from sklearn.model_selection import train_test_split \n",
    "#scoring \n",
    "from sklearn.metrics import confusion_matrix \n",
    "from sklearn.metrics import accuracy_score, precision_score, recall_score, average_precision_score, roc_auc_score, precision_recall_curve, roc_curve, auc \n",
    "from sklearn.model_selection import cross_val_score \n",
    "from sklearn.model_selection import GridSearchCV \n",
    "from sklearn.preprocessing import label_binarize,LabelEncoder\n",
    "import shap\n",
    "import re\n",
    "from scipy.interpolate import make_interp_spline"
   ]
  },
  {
   "cell_type": "code",
   "execution_count": 3,
   "metadata": {},
   "outputs": [],
   "source": [
    "# 临床特征指标数据读取\n",
    "datacln = pd.read_excel('data all NEW(1).xlsx',header=0,sheet_name='clinical data')\n",
    "clinic = datacln.iloc[:,2:]\n",
    "clinic = clinic.iloc[:,:-1]"
   ]
  },
  {
   "cell_type": "code",
   "execution_count": 4,
   "metadata": {},
   "outputs": [
    {
     "data": {
      "text/html": [
       "<div>\n",
       "<style scoped>\n",
       "    .dataframe tbody tr th:only-of-type {\n",
       "        vertical-align: middle;\n",
       "    }\n",
       "\n",
       "    .dataframe tbody tr th {\n",
       "        vertical-align: top;\n",
       "    }\n",
       "\n",
       "    .dataframe thead th {\n",
       "        text-align: right;\n",
       "    }\n",
       "</style>\n",
       "<table border=\"1\" class=\"dataframe\">\n",
       "  <thead>\n",
       "    <tr style=\"text-align: right;\">\n",
       "      <th></th>\n",
       "      <th>Sample</th>\n",
       "      <th>Class</th>\n",
       "      <th>Absti</th>\n",
       "      <th>SV</th>\n",
       "      <th>PH</th>\n",
       "      <th>C</th>\n",
       "      <th>TSC</th>\n",
       "      <th>SM</th>\n",
       "      <th>RC</th>\n",
       "      <th>SR</th>\n",
       "      <th>...</th>\n",
       "      <th>NP</th>\n",
       "      <th>IM</th>\n",
       "      <th>VCL</th>\n",
       "      <th>VSL</th>\n",
       "      <th>VAP</th>\n",
       "      <th>LIN</th>\n",
       "      <th>STR</th>\n",
       "      <th>WOB</th>\n",
       "      <th>ALH</th>\n",
       "      <th>BCF</th>\n",
       "    </tr>\n",
       "  </thead>\n",
       "  <tbody>\n",
       "    <tr>\n",
       "      <th>0</th>\n",
       "      <td>SS0145</td>\n",
       "      <td>Terato</td>\n",
       "      <td>2</td>\n",
       "      <td>1.5</td>\n",
       "      <td>7.3</td>\n",
       "      <td>59.8</td>\n",
       "      <td>89.8</td>\n",
       "      <td>67.2</td>\n",
       "      <td>3</td>\n",
       "      <td>80</td>\n",
       "      <td>...</td>\n",
       "      <td>8.1</td>\n",
       "      <td>32.8</td>\n",
       "      <td>103.6</td>\n",
       "      <td>55.0</td>\n",
       "      <td>70.9</td>\n",
       "      <td>53.1</td>\n",
       "      <td>77.5</td>\n",
       "      <td>68.5</td>\n",
       "      <td>2.6</td>\n",
       "      <td>13.5</td>\n",
       "    </tr>\n",
       "    <tr>\n",
       "      <th>1</th>\n",
       "      <td>SS0135</td>\n",
       "      <td>Terato</td>\n",
       "      <td>4</td>\n",
       "      <td>3.5</td>\n",
       "      <td>7.4</td>\n",
       "      <td>61.4</td>\n",
       "      <td>214.7</td>\n",
       "      <td>71.4</td>\n",
       "      <td>2</td>\n",
       "      <td>80</td>\n",
       "      <td>...</td>\n",
       "      <td>14.8</td>\n",
       "      <td>28.6</td>\n",
       "      <td>86.8</td>\n",
       "      <td>38.3</td>\n",
       "      <td>56.7</td>\n",
       "      <td>44.1</td>\n",
       "      <td>67.6</td>\n",
       "      <td>65.3</td>\n",
       "      <td>2.6</td>\n",
       "      <td>11.9</td>\n",
       "    </tr>\n",
       "    <tr>\n",
       "      <th>2</th>\n",
       "      <td>SS0130</td>\n",
       "      <td>Terato</td>\n",
       "      <td>3</td>\n",
       "      <td>1.5</td>\n",
       "      <td>7.5</td>\n",
       "      <td>53.8</td>\n",
       "      <td>80.7</td>\n",
       "      <td>62.7</td>\n",
       "      <td>3</td>\n",
       "      <td>80</td>\n",
       "      <td>...</td>\n",
       "      <td>11.2</td>\n",
       "      <td>37.3</td>\n",
       "      <td>95.9</td>\n",
       "      <td>56.0</td>\n",
       "      <td>69.7</td>\n",
       "      <td>58.4</td>\n",
       "      <td>80.4</td>\n",
       "      <td>72.7</td>\n",
       "      <td>2.3</td>\n",
       "      <td>12.8</td>\n",
       "    </tr>\n",
       "    <tr>\n",
       "      <th>3</th>\n",
       "      <td>SS0128</td>\n",
       "      <td>Terato</td>\n",
       "      <td>5</td>\n",
       "      <td>4.0</td>\n",
       "      <td>7.4</td>\n",
       "      <td>62.4</td>\n",
       "      <td>249.5</td>\n",
       "      <td>63.8</td>\n",
       "      <td>3</td>\n",
       "      <td>70</td>\n",
       "      <td>...</td>\n",
       "      <td>16.8</td>\n",
       "      <td>36.2</td>\n",
       "      <td>82.7</td>\n",
       "      <td>39.1</td>\n",
       "      <td>53.6</td>\n",
       "      <td>47.3</td>\n",
       "      <td>73.0</td>\n",
       "      <td>64.8</td>\n",
       "      <td>2.6</td>\n",
       "      <td>11.2</td>\n",
       "    </tr>\n",
       "    <tr>\n",
       "      <th>4</th>\n",
       "      <td>SS0126</td>\n",
       "      <td>Terato</td>\n",
       "      <td>3</td>\n",
       "      <td>4.0</td>\n",
       "      <td>7.5</td>\n",
       "      <td>65.2</td>\n",
       "      <td>260.9</td>\n",
       "      <td>79.3</td>\n",
       "      <td>3</td>\n",
       "      <td>90</td>\n",
       "      <td>...</td>\n",
       "      <td>10.4</td>\n",
       "      <td>20.7</td>\n",
       "      <td>108.2</td>\n",
       "      <td>59.0</td>\n",
       "      <td>76.0</td>\n",
       "      <td>54.5</td>\n",
       "      <td>77.6</td>\n",
       "      <td>70.3</td>\n",
       "      <td>2.7</td>\n",
       "      <td>13.6</td>\n",
       "    </tr>\n",
       "  </tbody>\n",
       "</table>\n",
       "<p>5 rows × 22 columns</p>\n",
       "</div>"
      ],
      "text/plain": [
       "   Sample   Class  Absti   SV   PH     C    TSC    SM  RC  SR  ...    NP  \\\n",
       "0  SS0145  Terato      2  1.5  7.3  59.8   89.8  67.2   3  80  ...   8.1   \n",
       "1  SS0135  Terato      4  3.5  7.4  61.4  214.7  71.4   2  80  ...  14.8   \n",
       "2  SS0130  Terato      3  1.5  7.5  53.8   80.7  62.7   3  80  ...  11.2   \n",
       "3  SS0128  Terato      5  4.0  7.4  62.4  249.5  63.8   3  70  ...  16.8   \n",
       "4  SS0126  Terato      3  4.0  7.5  65.2  260.9  79.3   3  90  ...  10.4   \n",
       "\n",
       "     IM    VCL   VSL   VAP   LIN   STR   WOB  ALH   BCF  \n",
       "0  32.8  103.6  55.0  70.9  53.1  77.5  68.5  2.6  13.5  \n",
       "1  28.6   86.8  38.3  56.7  44.1  67.6  65.3  2.6  11.9  \n",
       "2  37.3   95.9  56.0  69.7  58.4  80.4  72.7  2.3  12.8  \n",
       "3  36.2   82.7  39.1  53.6  47.3  73.0  64.8  2.6  11.2  \n",
       "4  20.7  108.2  59.0  76.0  54.5  77.6  70.3  2.7  13.6  \n",
       "\n",
       "[5 rows x 22 columns]"
      ]
     },
     "execution_count": 4,
     "metadata": {},
     "output_type": "execute_result"
    }
   ],
   "source": [
    "clinic.rename(columns={\"Lab ID\":\"Sample\"},inplace=True)\n",
    "clinic.head(5)"
   ]
  },
  {
   "cell_type": "code",
   "execution_count": 5,
   "metadata": {},
   "outputs": [
    {
     "data": {
      "text/plain": [
       "array(['Astheno', 'AsthenoTerato', 'Normal', 'OAT', 'Terato'],\n",
       "      dtype=object)"
      ]
     },
     "execution_count": 5,
     "metadata": {},
     "output_type": "execute_result"
    }
   ],
   "source": [
    "label_encoder = LabelEncoder()  \n",
    "clinic['Class']= label_encoder.fit_transform(clinic['Class']) \n",
    "label_encoder.classes_"
   ]
  },
  {
   "cell_type": "code",
   "execution_count": 6,
   "metadata": {},
   "outputs": [],
   "source": [
    "X = clinic.loc[:,['C','N%','SM','PR','IM']]\n",
    "y = clinic['Class']"
   ]
  },
  {
   "cell_type": "code",
   "execution_count": 7,
   "metadata": {},
   "outputs": [],
   "source": [
    "# 划分训练集和测试集\n",
    "X_train, X_test, y_train, y_test = train_test_split(X, y, test_size=0.2, \n",
    "                                                    random_state=42, stratify=y)"
   ]
  },
  {
   "cell_type": "code",
   "execution_count": 8,
   "metadata": {},
   "outputs": [
    {
     "name": "stdout",
     "output_type": "stream",
     "text": [
      "Fitting 5 folds for each of 100 candidates, totalling 500 fits\n",
      "Best parameters found:  {'learning_rate': 0.1, 'max_depth': 3, 'n_estimators': 400}\n",
      "Best Log Loss score:  0.17482129168479982\n"
     ]
    }
   ],
   "source": [
    "import xgboost as xgb\n",
    "from sklearn.model_selection import GridSearchCV\n",
    "\n",
    "# XGBoost模型参数\n",
    "params_xgb = {\n",
    "    'learning_rate': 0.02,            # 学习率，控制每一步的步长，用于防止过拟合。典型值范围：0.01 - 0.1\n",
    "    'booster': 'gbtree',              # 提升方法，这里使用梯度提升树（Gradient Boosting Tree）\n",
    "    'objective': 'multi:sofmax',   # 损失函数，这里使用逻辑回归，用于二分类任务\n",
    "    'max_leaves': 127,                # 每棵树的叶子节点数量，控制模型复杂度。较大值可以提高模型复杂度但可能导致过拟合\n",
    "    'verbosity': 1,                   # 控制 XGBoost 输出信息的详细程度，0表示无输出，1表示输出进度信息\n",
    "    'seed': 42,                       # 随机种子，用于重现模型的结果\n",
    "    'nthread': -1,                    # 并行运算的线程数量，-1表示使用所有可用的CPU核心\n",
    "    'colsample_bytree': 0.6,          # 每棵树随机选择的特征比例，用于增加模型的泛化能力\n",
    "    'subsample': 0.7,                 # 每次迭代时随机选择的样本比例，用于增加模型的泛化能力\n",
    "    'eval_metric': 'logloss'          # 评价指标，这里使用对数损失（logloss）\n",
    "}\n",
    "\n",
    "\n",
    "# 初始化XGBoost分类模型\n",
    "model_xgb = xgb.XGBClassifier(**params_xgb)\n",
    "\n",
    "\n",
    "# 定义参数网格，用于网格搜索\n",
    "param_grid = {\n",
    "    'n_estimators': [100, 200, 300, 400, 500],  # 树的数量\n",
    "    'max_depth': [3, 4, 5, 6, 7],               # 树的深度\n",
    "    'learning_rate': [0.01, 0.02, 0.05, 0.1],   # 学习率\n",
    "}\n",
    "\n",
    "\n",
    "# 使用GridSearchCV进行网格搜索和k折交叉验证\n",
    "grid_search = GridSearchCV(\n",
    "    estimator=model_xgb,\n",
    "    param_grid=param_grid,\n",
    "    scoring='neg_log_loss',  # 评价指标为负对数损失\n",
    "    cv=5,                    # 5折交叉验证\n",
    "    n_jobs=-1,               # 并行计算\n",
    "    verbose=1                # 输出详细进度信息\n",
    ")\n",
    "\n",
    "# 训练模型\n",
    "grid_search.fit(X_train, y_train)\n",
    "\n",
    "# 输出最优参数\n",
    "print(\"Best parameters found: \", grid_search.best_params_)\n",
    "print(\"Best Log Loss score: \", -grid_search.best_score_)\n",
    "\n",
    "# 使用最优参数训练模型\n",
    "best_model = grid_search.best_estimator_"
   ]
  },
  {
   "cell_type": "code",
   "execution_count": 9,
   "metadata": {},
   "outputs": [
    {
     "name": "stdout",
     "output_type": "stream",
     "text": [
      "              precision    recall  f1-score   support\n",
      "\n",
      "           0       1.00      0.50      0.67         2\n",
      "           1       0.75      0.75      0.75         4\n",
      "           2       1.00      1.00      1.00         5\n",
      "           3       0.80      1.00      0.89         4\n",
      "           4       1.00      1.00      1.00         4\n",
      "\n",
      "    accuracy                           0.89        19\n",
      "   macro avg       0.91      0.85      0.86        19\n",
      "weighted avg       0.91      0.89      0.89        19\n",
      "\n"
     ]
    }
   ],
   "source": [
    "\n",
    "from sklearn.metrics import classification_report\n",
    "# 预测测试集\n",
    "y_pred = best_model.predict(X_test)\n",
    "# 输出模型报告， 查看评价指标\n",
    "print(classification_report(y_test, y_pred))"
   ]
  },
  {
   "cell_type": "code",
   "execution_count": 10,
   "metadata": {},
   "outputs": [
    {
     "data": {
      "application/vnd.plotly.v1+json": {
       "config": {
        "plotlyServerURL": "https://plot.ly"
       },
       "data": [
        {
         "coloraxis": "coloraxis",
         "hovertemplate": "Predicted Value: %{x}<br>Actual Vlaue: %{y}<br>color: %{z}<extra></extra>",
         "name": "0",
         "texttemplate": "%{z}",
         "type": "heatmap",
         "x": [
          0,
          1,
          2,
          3,
          4
         ],
         "xaxis": "x",
         "y": [
          0,
          1,
          2,
          3,
          4
         ],
         "yaxis": "y",
         "z": [
          [
           1,
           1,
           0,
           0,
           0
          ],
          [
           0,
           3,
           0,
           1,
           0
          ],
          [
           0,
           0,
           5,
           0,
           0
          ],
          [
           0,
           0,
           0,
           4,
           0
          ],
          [
           0,
           0,
           0,
           0,
           4
          ]
         ]
        }
       ],
       "layout": {
        "coloraxis": {
         "colorscale": [
          [
           0,
           "#0d0887"
          ],
          [
           0.1111111111111111,
           "#46039f"
          ],
          [
           0.2222222222222222,
           "#7201a8"
          ],
          [
           0.3333333333333333,
           "#9c179e"
          ],
          [
           0.4444444444444444,
           "#bd3786"
          ],
          [
           0.5555555555555556,
           "#d8576b"
          ],
          [
           0.6666666666666666,
           "#ed7953"
          ],
          [
           0.7777777777777778,
           "#fb9f3a"
          ],
          [
           0.8888888888888888,
           "#fdca26"
          ],
          [
           1,
           "#f0f921"
          ]
         ]
        },
        "template": {
         "data": {
          "bar": [
           {
            "error_x": {
             "color": "#2a3f5f"
            },
            "error_y": {
             "color": "#2a3f5f"
            },
            "marker": {
             "line": {
              "color": "#E5ECF6",
              "width": 0.5
             },
             "pattern": {
              "fillmode": "overlay",
              "size": 10,
              "solidity": 0.2
             }
            },
            "type": "bar"
           }
          ],
          "barpolar": [
           {
            "marker": {
             "line": {
              "color": "#E5ECF6",
              "width": 0.5
             },
             "pattern": {
              "fillmode": "overlay",
              "size": 10,
              "solidity": 0.2
             }
            },
            "type": "barpolar"
           }
          ],
          "carpet": [
           {
            "aaxis": {
             "endlinecolor": "#2a3f5f",
             "gridcolor": "white",
             "linecolor": "white",
             "minorgridcolor": "white",
             "startlinecolor": "#2a3f5f"
            },
            "baxis": {
             "endlinecolor": "#2a3f5f",
             "gridcolor": "white",
             "linecolor": "white",
             "minorgridcolor": "white",
             "startlinecolor": "#2a3f5f"
            },
            "type": "carpet"
           }
          ],
          "choropleth": [
           {
            "colorbar": {
             "outlinewidth": 0,
             "ticks": ""
            },
            "type": "choropleth"
           }
          ],
          "contour": [
           {
            "colorbar": {
             "outlinewidth": 0,
             "ticks": ""
            },
            "colorscale": [
             [
              0,
              "#0d0887"
             ],
             [
              0.1111111111111111,
              "#46039f"
             ],
             [
              0.2222222222222222,
              "#7201a8"
             ],
             [
              0.3333333333333333,
              "#9c179e"
             ],
             [
              0.4444444444444444,
              "#bd3786"
             ],
             [
              0.5555555555555556,
              "#d8576b"
             ],
             [
              0.6666666666666666,
              "#ed7953"
             ],
             [
              0.7777777777777778,
              "#fb9f3a"
             ],
             [
              0.8888888888888888,
              "#fdca26"
             ],
             [
              1,
              "#f0f921"
             ]
            ],
            "type": "contour"
           }
          ],
          "contourcarpet": [
           {
            "colorbar": {
             "outlinewidth": 0,
             "ticks": ""
            },
            "type": "contourcarpet"
           }
          ],
          "heatmap": [
           {
            "colorbar": {
             "outlinewidth": 0,
             "ticks": ""
            },
            "colorscale": [
             [
              0,
              "#0d0887"
             ],
             [
              0.1111111111111111,
              "#46039f"
             ],
             [
              0.2222222222222222,
              "#7201a8"
             ],
             [
              0.3333333333333333,
              "#9c179e"
             ],
             [
              0.4444444444444444,
              "#bd3786"
             ],
             [
              0.5555555555555556,
              "#d8576b"
             ],
             [
              0.6666666666666666,
              "#ed7953"
             ],
             [
              0.7777777777777778,
              "#fb9f3a"
             ],
             [
              0.8888888888888888,
              "#fdca26"
             ],
             [
              1,
              "#f0f921"
             ]
            ],
            "type": "heatmap"
           }
          ],
          "heatmapgl": [
           {
            "colorbar": {
             "outlinewidth": 0,
             "ticks": ""
            },
            "colorscale": [
             [
              0,
              "#0d0887"
             ],
             [
              0.1111111111111111,
              "#46039f"
             ],
             [
              0.2222222222222222,
              "#7201a8"
             ],
             [
              0.3333333333333333,
              "#9c179e"
             ],
             [
              0.4444444444444444,
              "#bd3786"
             ],
             [
              0.5555555555555556,
              "#d8576b"
             ],
             [
              0.6666666666666666,
              "#ed7953"
             ],
             [
              0.7777777777777778,
              "#fb9f3a"
             ],
             [
              0.8888888888888888,
              "#fdca26"
             ],
             [
              1,
              "#f0f921"
             ]
            ],
            "type": "heatmapgl"
           }
          ],
          "histogram": [
           {
            "marker": {
             "pattern": {
              "fillmode": "overlay",
              "size": 10,
              "solidity": 0.2
             }
            },
            "type": "histogram"
           }
          ],
          "histogram2d": [
           {
            "colorbar": {
             "outlinewidth": 0,
             "ticks": ""
            },
            "colorscale": [
             [
              0,
              "#0d0887"
             ],
             [
              0.1111111111111111,
              "#46039f"
             ],
             [
              0.2222222222222222,
              "#7201a8"
             ],
             [
              0.3333333333333333,
              "#9c179e"
             ],
             [
              0.4444444444444444,
              "#bd3786"
             ],
             [
              0.5555555555555556,
              "#d8576b"
             ],
             [
              0.6666666666666666,
              "#ed7953"
             ],
             [
              0.7777777777777778,
              "#fb9f3a"
             ],
             [
              0.8888888888888888,
              "#fdca26"
             ],
             [
              1,
              "#f0f921"
             ]
            ],
            "type": "histogram2d"
           }
          ],
          "histogram2dcontour": [
           {
            "colorbar": {
             "outlinewidth": 0,
             "ticks": ""
            },
            "colorscale": [
             [
              0,
              "#0d0887"
             ],
             [
              0.1111111111111111,
              "#46039f"
             ],
             [
              0.2222222222222222,
              "#7201a8"
             ],
             [
              0.3333333333333333,
              "#9c179e"
             ],
             [
              0.4444444444444444,
              "#bd3786"
             ],
             [
              0.5555555555555556,
              "#d8576b"
             ],
             [
              0.6666666666666666,
              "#ed7953"
             ],
             [
              0.7777777777777778,
              "#fb9f3a"
             ],
             [
              0.8888888888888888,
              "#fdca26"
             ],
             [
              1,
              "#f0f921"
             ]
            ],
            "type": "histogram2dcontour"
           }
          ],
          "mesh3d": [
           {
            "colorbar": {
             "outlinewidth": 0,
             "ticks": ""
            },
            "type": "mesh3d"
           }
          ],
          "parcoords": [
           {
            "line": {
             "colorbar": {
              "outlinewidth": 0,
              "ticks": ""
             }
            },
            "type": "parcoords"
           }
          ],
          "pie": [
           {
            "automargin": true,
            "type": "pie"
           }
          ],
          "scatter": [
           {
            "fillpattern": {
             "fillmode": "overlay",
             "size": 10,
             "solidity": 0.2
            },
            "type": "scatter"
           }
          ],
          "scatter3d": [
           {
            "line": {
             "colorbar": {
              "outlinewidth": 0,
              "ticks": ""
             }
            },
            "marker": {
             "colorbar": {
              "outlinewidth": 0,
              "ticks": ""
             }
            },
            "type": "scatter3d"
           }
          ],
          "scattercarpet": [
           {
            "marker": {
             "colorbar": {
              "outlinewidth": 0,
              "ticks": ""
             }
            },
            "type": "scattercarpet"
           }
          ],
          "scattergeo": [
           {
            "marker": {
             "colorbar": {
              "outlinewidth": 0,
              "ticks": ""
             }
            },
            "type": "scattergeo"
           }
          ],
          "scattergl": [
           {
            "marker": {
             "colorbar": {
              "outlinewidth": 0,
              "ticks": ""
             }
            },
            "type": "scattergl"
           }
          ],
          "scattermapbox": [
           {
            "marker": {
             "colorbar": {
              "outlinewidth": 0,
              "ticks": ""
             }
            },
            "type": "scattermapbox"
           }
          ],
          "scatterpolar": [
           {
            "marker": {
             "colorbar": {
              "outlinewidth": 0,
              "ticks": ""
             }
            },
            "type": "scatterpolar"
           }
          ],
          "scatterpolargl": [
           {
            "marker": {
             "colorbar": {
              "outlinewidth": 0,
              "ticks": ""
             }
            },
            "type": "scatterpolargl"
           }
          ],
          "scatterternary": [
           {
            "marker": {
             "colorbar": {
              "outlinewidth": 0,
              "ticks": ""
             }
            },
            "type": "scatterternary"
           }
          ],
          "surface": [
           {
            "colorbar": {
             "outlinewidth": 0,
             "ticks": ""
            },
            "colorscale": [
             [
              0,
              "#0d0887"
             ],
             [
              0.1111111111111111,
              "#46039f"
             ],
             [
              0.2222222222222222,
              "#7201a8"
             ],
             [
              0.3333333333333333,
              "#9c179e"
             ],
             [
              0.4444444444444444,
              "#bd3786"
             ],
             [
              0.5555555555555556,
              "#d8576b"
             ],
             [
              0.6666666666666666,
              "#ed7953"
             ],
             [
              0.7777777777777778,
              "#fb9f3a"
             ],
             [
              0.8888888888888888,
              "#fdca26"
             ],
             [
              1,
              "#f0f921"
             ]
            ],
            "type": "surface"
           }
          ],
          "table": [
           {
            "cells": {
             "fill": {
              "color": "#EBF0F8"
             },
             "line": {
              "color": "white"
             }
            },
            "header": {
             "fill": {
              "color": "#C8D4E3"
             },
             "line": {
              "color": "white"
             }
            },
            "type": "table"
           }
          ]
         },
         "layout": {
          "annotationdefaults": {
           "arrowcolor": "#2a3f5f",
           "arrowhead": 0,
           "arrowwidth": 1
          },
          "autotypenumbers": "strict",
          "coloraxis": {
           "colorbar": {
            "outlinewidth": 0,
            "ticks": ""
           }
          },
          "colorscale": {
           "diverging": [
            [
             0,
             "#8e0152"
            ],
            [
             0.1,
             "#c51b7d"
            ],
            [
             0.2,
             "#de77ae"
            ],
            [
             0.3,
             "#f1b6da"
            ],
            [
             0.4,
             "#fde0ef"
            ],
            [
             0.5,
             "#f7f7f7"
            ],
            [
             0.6,
             "#e6f5d0"
            ],
            [
             0.7,
             "#b8e186"
            ],
            [
             0.8,
             "#7fbc41"
            ],
            [
             0.9,
             "#4d9221"
            ],
            [
             1,
             "#276419"
            ]
           ],
           "sequential": [
            [
             0,
             "#0d0887"
            ],
            [
             0.1111111111111111,
             "#46039f"
            ],
            [
             0.2222222222222222,
             "#7201a8"
            ],
            [
             0.3333333333333333,
             "#9c179e"
            ],
            [
             0.4444444444444444,
             "#bd3786"
            ],
            [
             0.5555555555555556,
             "#d8576b"
            ],
            [
             0.6666666666666666,
             "#ed7953"
            ],
            [
             0.7777777777777778,
             "#fb9f3a"
            ],
            [
             0.8888888888888888,
             "#fdca26"
            ],
            [
             1,
             "#f0f921"
            ]
           ],
           "sequentialminus": [
            [
             0,
             "#0d0887"
            ],
            [
             0.1111111111111111,
             "#46039f"
            ],
            [
             0.2222222222222222,
             "#7201a8"
            ],
            [
             0.3333333333333333,
             "#9c179e"
            ],
            [
             0.4444444444444444,
             "#bd3786"
            ],
            [
             0.5555555555555556,
             "#d8576b"
            ],
            [
             0.6666666666666666,
             "#ed7953"
            ],
            [
             0.7777777777777778,
             "#fb9f3a"
            ],
            [
             0.8888888888888888,
             "#fdca26"
            ],
            [
             1,
             "#f0f921"
            ]
           ]
          },
          "colorway": [
           "#636efa",
           "#EF553B",
           "#00cc96",
           "#ab63fa",
           "#FFA15A",
           "#19d3f3",
           "#FF6692",
           "#B6E880",
           "#FF97FF",
           "#FECB52"
          ],
          "font": {
           "color": "#2a3f5f"
          },
          "geo": {
           "bgcolor": "white",
           "lakecolor": "white",
           "landcolor": "#E5ECF6",
           "showlakes": true,
           "showland": true,
           "subunitcolor": "white"
          },
          "hoverlabel": {
           "align": "left"
          },
          "hovermode": "closest",
          "mapbox": {
           "style": "light"
          },
          "paper_bgcolor": "white",
          "plot_bgcolor": "#E5ECF6",
          "polar": {
           "angularaxis": {
            "gridcolor": "white",
            "linecolor": "white",
            "ticks": ""
           },
           "bgcolor": "#E5ECF6",
           "radialaxis": {
            "gridcolor": "white",
            "linecolor": "white",
            "ticks": ""
           }
          },
          "scene": {
           "xaxis": {
            "backgroundcolor": "#E5ECF6",
            "gridcolor": "white",
            "gridwidth": 2,
            "linecolor": "white",
            "showbackground": true,
            "ticks": "",
            "zerolinecolor": "white"
           },
           "yaxis": {
            "backgroundcolor": "#E5ECF6",
            "gridcolor": "white",
            "gridwidth": 2,
            "linecolor": "white",
            "showbackground": true,
            "ticks": "",
            "zerolinecolor": "white"
           },
           "zaxis": {
            "backgroundcolor": "#E5ECF6",
            "gridcolor": "white",
            "gridwidth": 2,
            "linecolor": "white",
            "showbackground": true,
            "ticks": "",
            "zerolinecolor": "white"
           }
          },
          "shapedefaults": {
           "line": {
            "color": "#2a3f5f"
           }
          },
          "ternary": {
           "aaxis": {
            "gridcolor": "white",
            "linecolor": "white",
            "ticks": ""
           },
           "baxis": {
            "gridcolor": "white",
            "linecolor": "white",
            "ticks": ""
           },
           "bgcolor": "#E5ECF6",
           "caxis": {
            "gridcolor": "white",
            "linecolor": "white",
            "ticks": ""
           }
          },
          "title": {
           "x": 0.05
          },
          "xaxis": {
           "automargin": true,
           "gridcolor": "white",
           "linecolor": "white",
           "ticks": "",
           "title": {
            "standoff": 15
           },
           "zerolinecolor": "white",
           "zerolinewidth": 2
          },
          "yaxis": {
           "automargin": true,
           "gridcolor": "white",
           "linecolor": "white",
           "ticks": "",
           "title": {
            "standoff": 15
           },
           "zerolinecolor": "white",
           "zerolinewidth": 2
          }
         }
        },
        "title": {
         "text": "Confusion Matrix",
         "x": 0.5
        },
        "xaxis": {
         "anchor": "y",
         "constrain": "domain",
         "domain": [
          0,
          1
         ],
         "scaleanchor": "y",
         "title": {
          "text": "Predicted Value"
         }
        },
        "yaxis": {
         "anchor": "x",
         "autorange": "reversed",
         "constrain": "domain",
         "domain": [
          0,
          1
         ],
         "title": {
          "text": "Actual Vlaue"
         }
        }
       }
      }
     },
     "metadata": {},
     "output_type": "display_data"
    },
    {
     "data": {
      "text/plain": [
       "<Figure size 10000x10000 with 0 Axes>"
      ]
     },
     "metadata": {},
     "output_type": "display_data"
    }
   ],
   "source": [
    "confusion = confusion_matrix(y_test, y_pred) \n",
    "plt.figure(figsize=(20,20),dpi=500)\n",
    "fig = px.imshow(confusion, labels=dict(x=\"Predicted Value\", y=\"Actual Vlaue\"), x=[0,1,2,3,4],y=[0,1,2,3,4],text_auto=True, title='Confusion Matrix',) \n",
    "fig.update_layout(title_x=0.5) \n",
    "fig.show()"
   ]
  },
  {
   "cell_type": "code",
   "execution_count": 11,
   "metadata": {},
   "outputs": [
    {
     "name": "stdout",
     "output_type": "stream",
     "text": [
      "模型已保存为 'XGBoost.pkl'\n"
     ]
    }
   ],
   "source": [
    "import joblib  \n",
    "# 保存模型  \n",
    "joblib.dump(best_model, 'XGBoost.pkl')  \n",
    "  \n",
    "print(\"模型已保存为 'XGBoost.pkl'\")"
   ]
  },
  {
   "attachments": {},
   "cell_type": "markdown",
   "metadata": {},
   "source": [
    "# Streamlit 程序开发"
   ]
  },
  {
   "cell_type": "code",
   "execution_count": 12,
   "metadata": {},
   "outputs": [
    {
     "name": "stdout",
     "output_type": "stream",
     "text": [
      "Looking in indexes: https://pypi.tuna.tsinghua.edu.cn/simple/\n",
      "Collecting streamlit\n",
      "  Downloading https://pypi.tuna.tsinghua.edu.cn/packages/7c/2e/60e624bbe16f4baa45cb6e48a1ee05edd48a0a14cceec4d7eec9258755ac/streamlit-1.38.0-py2.py3-none-any.whl (8.7 MB)\n",
      "     ---------------------------------------- 0.0/8.7 MB ? eta -:--:--\n",
      "      --------------------------------------- 0.2/8.7 MB 5.9 MB/s eta 0:00:02\n",
      "     -- ------------------------------------- 0.5/8.7 MB 6.7 MB/s eta 0:00:02\n",
      "     ------ --------------------------------- 1.5/8.7 MB 10.7 MB/s eta 0:00:01\n",
      "     --------------- ------------------------ 3.4/8.7 MB 18.1 MB/s eta 0:00:01\n",
      "     ----------------------- ---------------- 5.2/8.7 MB 23.7 MB/s eta 0:00:01\n",
      "     ------------------------ --------------- 5.4/8.7 MB 20.1 MB/s eta 0:00:01\n",
      "     ------------------------- -------------- 5.6/8.7 MB 17.8 MB/s eta 0:00:01\n",
      "     -------------------------- ------------- 5.8/8.7 MB 16.0 MB/s eta 0:00:01\n",
      "     --------------------------- ------------ 6.0/8.7 MB 14.7 MB/s eta 0:00:01\n",
      "     ---------------------------- ----------- 6.2/8.7 MB 13.6 MB/s eta 0:00:01\n",
      "     ----------------------------- ---------- 6.3/8.7 MB 12.7 MB/s eta 0:00:01\n",
      "     ----------------------------- ---------- 6.5/8.7 MB 11.9 MB/s eta 0:00:01\n",
      "     ------------------------------- -------- 6.8/8.7 MB 11.4 MB/s eta 0:00:01\n",
      "     -------------------------------- ------- 7.0/8.7 MB 10.7 MB/s eta 0:00:01\n",
      "     -------------------------------- ------- 7.2/8.7 MB 10.4 MB/s eta 0:00:01\n",
      "     --------------------------------- ------ 7.4/8.7 MB 10.0 MB/s eta 0:00:01\n",
      "     ---------------------------------- ----- 7.6/8.7 MB 9.7 MB/s eta 0:00:01\n",
      "     ----------------------------------- ---- 7.8/8.7 MB 9.4 MB/s eta 0:00:01\n",
      "     ------------------------------------ --- 8.0/8.7 MB 9.1 MB/s eta 0:00:01\n",
      "     ------------------------------------- -- 8.2/8.7 MB 9.0 MB/s eta 0:00:01\n",
      "     -------------------------------------- - 8.3/8.7 MB 8.7 MB/s eta 0:00:01\n",
      "     ---------------------------------------  8.6/8.7 MB 8.6 MB/s eta 0:00:01\n",
      "     ---------------------------------------  8.7/8.7 MB 8.3 MB/s eta 0:00:01\n",
      "     ---------------------------------------- 8.7/8.7 MB 8.0 MB/s eta 0:00:00\n",
      "Collecting altair<6,>=4.0 (from streamlit)\n",
      "  Downloading https://pypi.tuna.tsinghua.edu.cn/packages/9b/52/4a86a4fa1cc2aae79137cc9510b7080c3e5aede2310d14fae5486feec7f7/altair-5.4.1-py3-none-any.whl (658 kB)\n",
      "     ---------------------------------------- 0.0/658.1 kB ? eta -:--:--\n",
      "     ------------------------------------- 658.1/658.1 kB 43.2 MB/s eta 0:00:00\n",
      "Requirement already satisfied: blinker<2,>=1.0.0 in d:\\programdata\\anaconda3\\envs\\paddle_env\\lib\\site-packages (from streamlit) (1.8.2)\n",
      "Collecting cachetools<6,>=4.0 (from streamlit)\n",
      "  Downloading https://pypi.tuna.tsinghua.edu.cn/packages/a4/07/14f8ad37f2d12a5ce41206c21820d8cb6561b728e51fad4530dff0552a67/cachetools-5.5.0-py3-none-any.whl (9.5 kB)\n",
      "Requirement already satisfied: click<9,>=7.0 in d:\\programdata\\anaconda3\\envs\\paddle_env\\lib\\site-packages (from streamlit) (8.1.7)\n",
      "Requirement already satisfied: numpy<3,>=1.20 in d:\\programdata\\anaconda3\\envs\\paddle_env\\lib\\site-packages (from streamlit) (1.23.5)\n",
      "Requirement already satisfied: packaging<25,>=20 in d:\\programdata\\anaconda3\\envs\\paddle_env\\lib\\site-packages (from streamlit) (24.1)\n",
      "Requirement already satisfied: pandas<3,>=1.3.0 in d:\\programdata\\anaconda3\\envs\\paddle_env\\lib\\site-packages (from streamlit) (2.2.2)\n",
      "Requirement already satisfied: pillow<11,>=7.1.0 in d:\\programdata\\anaconda3\\envs\\paddle_env\\lib\\site-packages (from streamlit) (9.3.0)\n",
      "Requirement already satisfied: protobuf<6,>=3.20 in d:\\programdata\\anaconda3\\envs\\paddle_env\\lib\\site-packages (from streamlit) (3.20.2)\n",
      "Collecting pyarrow>=7.0 (from streamlit)\n",
      "  Downloading https://pypi.tuna.tsinghua.edu.cn/packages/19/09/b0a02908180a25d57312ab5919069c39fddf30602568980419f4b02393f6/pyarrow-17.0.0-cp310-cp310-win_amd64.whl (25.1 MB)\n",
      "     ---------------------------------------- 0.0/25.1 MB ? eta -:--:--\n",
      "     - -------------------------------------- 1.0/25.1 MB 31.1 MB/s eta 0:00:01\n",
      "     - -------------------------------------- 1.2/25.1 MB 15.0 MB/s eta 0:00:02\n",
      "     -- ------------------------------------- 1.4/25.1 MB 11.1 MB/s eta 0:00:03\n",
      "     -- ------------------------------------- 1.6/25.1 MB 9.1 MB/s eta 0:00:03\n",
      "     -- ------------------------------------- 1.8/25.1 MB 8.0 MB/s eta 0:00:03\n",
      "     --- ------------------------------------ 2.0/25.1 MB 7.5 MB/s eta 0:00:04\n",
      "     --- ------------------------------------ 2.2/25.1 MB 7.0 MB/s eta 0:00:04\n",
      "     --- ------------------------------------ 2.4/25.1 MB 6.6 MB/s eta 0:00:04\n",
      "     ---- ----------------------------------- 2.6/25.1 MB 6.3 MB/s eta 0:00:04\n",
      "     ---- ----------------------------------- 2.8/25.1 MB 6.1 MB/s eta 0:00:04\n",
      "     ---- ----------------------------------- 3.0/25.1 MB 5.9 MB/s eta 0:00:04\n",
      "     ----- ---------------------------------- 3.2/25.1 MB 5.8 MB/s eta 0:00:04\n",
      "     ----- ---------------------------------- 3.4/25.1 MB 5.7 MB/s eta 0:00:04\n",
      "     ----- ---------------------------------- 3.6/25.1 MB 5.6 MB/s eta 0:00:04\n",
      "     ----- ---------------------------------- 3.8/25.1 MB 5.3 MB/s eta 0:00:04\n",
      "     ------ --------------------------------- 4.0/25.1 MB 5.4 MB/s eta 0:00:04\n",
      "     ------ --------------------------------- 4.2/25.1 MB 5.3 MB/s eta 0:00:04\n",
      "     ------ --------------------------------- 4.4/25.1 MB 5.3 MB/s eta 0:00:04\n",
      "     ------- -------------------------------- 4.6/25.1 MB 5.2 MB/s eta 0:00:04\n",
      "     ------- -------------------------------- 4.8/25.1 MB 5.2 MB/s eta 0:00:04\n",
      "     ------- -------------------------------- 5.0/25.1 MB 5.1 MB/s eta 0:00:04\n",
      "     -------- ------------------------------- 5.2/25.1 MB 5.1 MB/s eta 0:00:04\n",
      "     -------- ------------------------------- 5.4/25.1 MB 5.0 MB/s eta 0:00:04\n",
      "     -------- ------------------------------- 5.6/25.1 MB 5.0 MB/s eta 0:00:04\n",
      "     --------- ------------------------------ 5.8/25.1 MB 5.0 MB/s eta 0:00:04\n",
      "     --------- ------------------------------ 6.0/25.1 MB 5.0 MB/s eta 0:00:04\n",
      "     --------- ------------------------------ 6.2/25.1 MB 4.9 MB/s eta 0:00:04\n",
      "     ---------- ----------------------------- 6.4/25.1 MB 4.9 MB/s eta 0:00:04\n",
      "     ---------- ----------------------------- 6.6/25.1 MB 4.8 MB/s eta 0:00:04\n",
      "     ---------- ----------------------------- 6.8/25.1 MB 4.9 MB/s eta 0:00:04\n",
      "     ----------- ---------------------------- 7.0/25.1 MB 4.9 MB/s eta 0:00:04\n",
      "     ----------- ---------------------------- 7.2/25.1 MB 4.8 MB/s eta 0:00:04\n",
      "     ----------- ---------------------------- 7.4/25.1 MB 4.8 MB/s eta 0:00:04\n",
      "     ------------ --------------------------- 7.6/25.1 MB 4.8 MB/s eta 0:00:04\n",
      "     ------------ --------------------------- 7.8/25.1 MB 4.8 MB/s eta 0:00:04\n",
      "     ------------ --------------------------- 8.0/25.1 MB 4.8 MB/s eta 0:00:04\n",
      "     ------------ --------------------------- 8.2/25.1 MB 4.8 MB/s eta 0:00:04\n",
      "     ------------- -------------------------- 8.4/25.1 MB 4.7 MB/s eta 0:00:04\n",
      "     ------------- -------------------------- 8.6/25.1 MB 4.7 MB/s eta 0:00:04\n",
      "     ------------- -------------------------- 8.8/25.1 MB 4.7 MB/s eta 0:00:04\n",
      "     -------------- ------------------------- 9.0/25.1 MB 4.7 MB/s eta 0:00:04\n",
      "     -------------- ------------------------- 9.2/25.1 MB 4.7 MB/s eta 0:00:04\n",
      "     -------------- ------------------------- 9.4/25.1 MB 4.7 MB/s eta 0:00:04\n",
      "     --------------- ------------------------ 9.6/25.1 MB 4.7 MB/s eta 0:00:04\n",
      "     --------------- ------------------------ 9.8/25.1 MB 4.6 MB/s eta 0:00:04\n",
      "     --------------- ------------------------ 10.0/25.1 MB 4.7 MB/s eta 0:00:04\n",
      "     ---------------- ----------------------- 10.2/25.1 MB 4.6 MB/s eta 0:00:04\n",
      "     ---------------- ----------------------- 10.4/25.1 MB 4.6 MB/s eta 0:00:04\n",
      "     ---------------- ----------------------- 10.6/25.1 MB 4.5 MB/s eta 0:00:04\n",
      "     ----------------- ---------------------- 10.8/25.1 MB 4.4 MB/s eta 0:00:04\n",
      "     ----------------- ---------------------- 11.0/25.1 MB 4.3 MB/s eta 0:00:04\n",
      "     ----------------- ---------------------- 11.2/25.1 MB 4.3 MB/s eta 0:00:04\n",
      "     ------------------ --------------------- 11.4/25.1 MB 4.3 MB/s eta 0:00:04\n",
      "     ------------------ --------------------- 11.6/25.1 MB 4.3 MB/s eta 0:00:04\n",
      "     ------------------ --------------------- 11.8/25.1 MB 4.3 MB/s eta 0:00:04\n",
      "     ------------------- -------------------- 12.0/25.1 MB 4.3 MB/s eta 0:00:04\n",
      "     ------------------- -------------------- 12.2/25.1 MB 4.3 MB/s eta 0:00:04\n",
      "     ------------------- -------------------- 12.4/25.1 MB 4.3 MB/s eta 0:00:03\n",
      "     -------------------- ------------------- 12.6/25.1 MB 4.3 MB/s eta 0:00:03\n",
      "     -------------------- ------------------- 12.8/25.1 MB 4.3 MB/s eta 0:00:03\n",
      "     -------------------- ------------------- 13.0/25.1 MB 4.3 MB/s eta 0:00:03\n",
      "     -------------------- ------------------- 13.2/25.1 MB 4.3 MB/s eta 0:00:03\n",
      "     --------------------- ------------------ 13.4/25.1 MB 4.3 MB/s eta 0:00:03\n",
      "     --------------------- ------------------ 13.6/25.1 MB 4.3 MB/s eta 0:00:03\n",
      "     --------------------- ------------------ 13.8/25.1 MB 4.3 MB/s eta 0:00:03\n",
      "     ---------------------- ----------------- 14.0/25.1 MB 4.3 MB/s eta 0:00:03\n",
      "     ---------------------- ----------------- 14.2/25.1 MB 4.3 MB/s eta 0:00:03\n",
      "     ---------------------- ----------------- 14.4/25.1 MB 4.3 MB/s eta 0:00:03\n",
      "     ----------------------- ---------------- 14.6/25.1 MB 4.3 MB/s eta 0:00:03\n",
      "     ----------------------- ---------------- 14.8/25.1 MB 4.3 MB/s eta 0:00:03\n",
      "     ----------------------- ---------------- 15.0/25.1 MB 4.3 MB/s eta 0:00:03\n",
      "     ------------------------ --------------- 15.2/25.1 MB 4.3 MB/s eta 0:00:03\n",
      "     ------------------------ --------------- 15.4/25.1 MB 4.3 MB/s eta 0:00:03\n",
      "     ------------------------ --------------- 15.6/25.1 MB 4.3 MB/s eta 0:00:03\n",
      "     ------------------------- -------------- 15.8/25.1 MB 4.3 MB/s eta 0:00:03\n",
      "     ------------------------- -------------- 16.0/25.1 MB 4.3 MB/s eta 0:00:03\n",
      "     ------------------------- -------------- 16.2/25.1 MB 4.3 MB/s eta 0:00:03\n",
      "     -------------------------- ------------- 16.4/25.1 MB 4.3 MB/s eta 0:00:03\n",
      "     -------------------------- ------------- 16.6/25.1 MB 4.3 MB/s eta 0:00:03\n",
      "     -------------------------- ------------- 16.8/25.1 MB 4.3 MB/s eta 0:00:02\n",
      "     --------------------------- ------------ 17.0/25.1 MB 4.3 MB/s eta 0:00:02\n",
      "     --------------------------- ------------ 17.2/25.1 MB 4.3 MB/s eta 0:00:02\n",
      "     --------------------------- ------------ 17.4/25.1 MB 4.3 MB/s eta 0:00:02\n",
      "     --------------------------- ------------ 17.6/25.1 MB 4.3 MB/s eta 0:00:02\n",
      "     ---------------------------- ----------- 17.8/25.1 MB 4.3 MB/s eta 0:00:02\n",
      "     ---------------------------- ----------- 18.0/25.1 MB 4.3 MB/s eta 0:00:02\n",
      "     ---------------------------- ----------- 18.2/25.1 MB 4.3 MB/s eta 0:00:02\n",
      "     ----------------------------- ---------- 18.3/25.1 MB 4.3 MB/s eta 0:00:02\n",
      "     ----------------------------- ---------- 18.6/25.1 MB 4.3 MB/s eta 0:00:02\n",
      "     ----------------------------- ---------- 18.8/25.1 MB 4.3 MB/s eta 0:00:02\n",
      "     ------------------------------ --------- 19.0/25.1 MB 4.3 MB/s eta 0:00:02\n",
      "     ------------------------------ --------- 19.2/25.1 MB 4.3 MB/s eta 0:00:02\n",
      "     ------------------------------ --------- 19.4/25.1 MB 4.3 MB/s eta 0:00:02\n",
      "     ------------------------------- -------- 19.6/25.1 MB 4.3 MB/s eta 0:00:02\n",
      "     ------------------------------- -------- 19.8/25.1 MB 4.3 MB/s eta 0:00:02\n",
      "     ------------------------------- -------- 19.9/25.1 MB 4.3 MB/s eta 0:00:02\n",
      "     -------------------------------- ------- 20.1/25.1 MB 4.3 MB/s eta 0:00:02\n",
      "     -------------------------------- ------- 20.4/25.1 MB 4.3 MB/s eta 0:00:02\n",
      "     -------------------------------- ------- 20.6/25.1 MB 4.3 MB/s eta 0:00:02\n",
      "     --------------------------------- ------ 20.8/25.1 MB 4.3 MB/s eta 0:00:02\n",
      "     --------------------------------- ------ 21.0/25.1 MB 4.3 MB/s eta 0:00:01\n",
      "     --------------------------------- ------ 21.2/25.1 MB 4.3 MB/s eta 0:00:01\n",
      "     --------------------------------- ------ 21.4/25.1 MB 4.3 MB/s eta 0:00:01\n",
      "     ---------------------------------- ----- 21.7/25.1 MB 4.2 MB/s eta 0:00:01\n",
      "     ---------------------------------- ----- 22.0/25.1 MB 4.3 MB/s eta 0:00:01\n",
      "     ----------------------------------- ---- 22.2/25.1 MB 4.3 MB/s eta 0:00:01\n",
      "     ----------------------------------- ---- 22.4/25.1 MB 4.3 MB/s eta 0:00:01\n",
      "     ----------------------------------- ---- 22.6/25.1 MB 4.3 MB/s eta 0:00:01\n",
      "     ------------------------------------ --- 22.8/25.1 MB 4.3 MB/s eta 0:00:01\n",
      "     ------------------------------------ --- 23.0/25.1 MB 4.3 MB/s eta 0:00:01\n",
      "     ------------------------------------ --- 23.2/25.1 MB 4.3 MB/s eta 0:00:01\n",
      "     ------------------------------------- -- 23.4/25.1 MB 4.3 MB/s eta 0:00:01\n",
      "     ------------------------------------- -- 23.6/25.1 MB 4.3 MB/s eta 0:00:01\n",
      "     ------------------------------------- -- 23.8/25.1 MB 4.3 MB/s eta 0:00:01\n",
      "     -------------------------------------- - 24.0/25.1 MB 4.3 MB/s eta 0:00:01\n",
      "     -------------------------------------- - 24.2/25.1 MB 4.3 MB/s eta 0:00:01\n",
      "     -------------------------------------- - 24.4/25.1 MB 4.3 MB/s eta 0:00:01\n",
      "     ---------------------------------------  24.5/25.1 MB 4.3 MB/s eta 0:00:01\n",
      "     ---------------------------------------  24.8/25.1 MB 4.3 MB/s eta 0:00:01\n",
      "     ---------------------------------------  25.0/25.1 MB 4.3 MB/s eta 0:00:01\n",
      "     ---------------------------------------  25.1/25.1 MB 4.3 MB/s eta 0:00:01\n",
      "     ---------------------------------------- 25.1/25.1 MB 4.2 MB/s eta 0:00:00\n",
      "Requirement already satisfied: requests<3,>=2.27 in d:\\programdata\\anaconda3\\envs\\paddle_env\\lib\\site-packages (from streamlit) (2.31.0)\n",
      "Collecting rich<14,>=10.14.0 (from streamlit)\n",
      "  Downloading https://pypi.tuna.tsinghua.edu.cn/packages/c7/d9/c2a126eeae791e90ea099d05cb0515feea3688474b978343f3cdcfe04523/rich-13.8.0-py3-none-any.whl (241 kB)\n",
      "     ---------------------------------------- 0.0/241.6 kB ? eta -:--:--\n",
      "     ------------------------------------- 241.6/241.6 kB 15.4 MB/s eta 0:00:00\n",
      "Collecting tenacity<9,>=8.1.0 (from streamlit)\n",
      "  Downloading https://pypi.tuna.tsinghua.edu.cn/packages/d2/3f/8ba87d9e287b9d385a02a7114ddcef61b26f86411e121c9003eb509a1773/tenacity-8.5.0-py3-none-any.whl (28 kB)\n",
      "Collecting toml<2,>=0.10.1 (from streamlit)\n",
      "  Downloading https://pypi.tuna.tsinghua.edu.cn/packages/44/6f/7120676b6d73228c96e17f1f794d8ab046fc910d781c8d151120c3f1569e/toml-0.10.2-py2.py3-none-any.whl (16 kB)\n",
      "Requirement already satisfied: typing-extensions<5,>=4.3.0 in d:\\programdata\\anaconda3\\envs\\paddle_env\\lib\\site-packages (from streamlit) (4.12.2)\n",
      "Collecting gitpython!=3.1.19,<4,>=3.0.7 (from streamlit)\n",
      "  Using cached https://pypi.tuna.tsinghua.edu.cn/packages/e9/bd/cc3a402a6439c15c3d4294333e13042b915bbeab54edc457c723931fed3f/GitPython-3.1.43-py3-none-any.whl (207 kB)\n",
      "Collecting pydeck<1,>=0.8.0b4 (from streamlit)\n",
      "  Downloading https://pypi.tuna.tsinghua.edu.cn/packages/ab/4c/b888e6cf58bd9db9c93f40d1c6be8283ff49d88919231afe93a6bcf61626/pydeck-0.9.1-py2.py3-none-any.whl (6.9 MB)\n",
      "     ---------------------------------------- 0.0/6.9 MB ? eta -:--:--\n",
      "     ---------- ----------------------------- 1.9/6.9 MB 59.8 MB/s eta 0:00:01\n",
      "     --------------- ------------------------ 2.7/6.9 MB 43.4 MB/s eta 0:00:01\n",
      "     ----------------- ---------------------- 2.9/6.9 MB 26.6 MB/s eta 0:00:01\n",
      "     ------------------ --------------------- 3.1/6.9 MB 20.1 MB/s eta 0:00:01\n",
      "     ------------------- -------------------- 3.3/6.9 MB 16.4 MB/s eta 0:00:01\n",
      "     -------------------- ------------------- 3.5/6.9 MB 14.1 MB/s eta 0:00:01\n",
      "     --------------------- ------------------ 3.7/6.9 MB 12.5 MB/s eta 0:00:01\n",
      "     ---------------------- ----------------- 3.9/6.9 MB 11.4 MB/s eta 0:00:01\n",
      "     ----------------------- ---------------- 4.1/6.9 MB 10.5 MB/s eta 0:00:01\n",
      "     ------------------------- -------------- 4.3/6.9 MB 9.8 MB/s eta 0:00:01\n",
      "     -------------------------- ------------- 4.5/6.9 MB 9.4 MB/s eta 0:00:01\n",
      "     --------------------------- ------------ 4.7/6.9 MB 8.9 MB/s eta 0:00:01\n",
      "     ---------------------------- ----------- 4.9/6.9 MB 8.5 MB/s eta 0:00:01\n",
      "     ----------------------------- ---------- 5.2/6.9 MB 8.0 MB/s eta 0:00:01\n",
      "     ------------------------------ --------- 5.3/6.9 MB 7.9 MB/s eta 0:00:01\n",
      "     -------------------------------- ------- 5.5/6.9 MB 7.7 MB/s eta 0:00:01\n",
      "     --------------------------------- ------ 5.7/6.9 MB 7.5 MB/s eta 0:00:01\n",
      "     ---------------------------------- ----- 5.9/6.9 MB 7.3 MB/s eta 0:00:01\n",
      "     ----------------------------------- ---- 6.1/6.9 MB 7.1 MB/s eta 0:00:01\n",
      "     ------------------------------------ --- 6.3/6.9 MB 7.0 MB/s eta 0:00:01\n",
      "     ------------------------------------- -- 6.5/6.9 MB 6.9 MB/s eta 0:00:01\n",
      "     ---------------------------------------  6.7/6.9 MB 6.7 MB/s eta 0:00:01\n",
      "     ---------------------------------------  6.9/6.9 MB 6.6 MB/s eta 0:00:01\n",
      "     ---------------------------------------- 6.9/6.9 MB 6.5 MB/s eta 0:00:00\n",
      "Requirement already satisfied: tornado<7,>=6.0.3 in d:\\programdata\\anaconda3\\envs\\paddle_env\\lib\\site-packages (from streamlit) (6.2)\n",
      "Collecting watchdog<5,>=2.1.5 (from streamlit)\n",
      "  Downloading https://pypi.tuna.tsinghua.edu.cn/packages/99/2e/b69dfaae7a83ea64ce36538cc103a3065e12c447963797793d5c0a1d5130/watchdog-4.0.2-py3-none-win_amd64.whl (82 kB)\n",
      "     ---------------------------------------- 0.0/82.9 kB ? eta -:--:--\n",
      "     ---------------------------------------- 82.9/82.9 kB 4.5 MB/s eta 0:00:00\n",
      "Requirement already satisfied: jinja2 in d:\\programdata\\anaconda3\\envs\\paddle_env\\lib\\site-packages (from altair<6,>=4.0->streamlit) (3.1.4)\n",
      "Requirement already satisfied: jsonschema>=3.0 in d:\\programdata\\anaconda3\\envs\\paddle_env\\lib\\site-packages (from altair<6,>=4.0->streamlit) (4.19.2)\n",
      "Collecting narwhals>=1.5.2 (from altair<6,>=4.0->streamlit)\n",
      "  Downloading https://pypi.tuna.tsinghua.edu.cn/packages/4b/23/fcf80d2dce9542244ddf42d2c032708e6abdf151009af6027e2ac8ce7a1a/narwhals-1.6.0-py3-none-any.whl (154 kB)\n",
      "     ---------------------------------------- 0.0/154.6 kB ? eta -:--:--\n",
      "     ---------------------------------------- 154.6/154.6 kB ? eta 0:00:00\n",
      "Requirement already satisfied: colorama in d:\\programdata\\anaconda3\\envs\\paddle_env\\lib\\site-packages (from click<9,>=7.0->streamlit) (0.4.6)\n",
      "Collecting gitdb<5,>=4.0.1 (from gitpython!=3.1.19,<4,>=3.0.7->streamlit)\n",
      "  Using cached https://pypi.tuna.tsinghua.edu.cn/packages/fd/5b/8f0c4a5bb9fd491c277c21eff7ccae71b47d43c4446c9d0c6cff2fe8c2c4/gitdb-4.0.11-py3-none-any.whl (62 kB)\n",
      "Requirement already satisfied: python-dateutil>=2.8.2 in d:\\programdata\\anaconda3\\envs\\paddle_env\\lib\\site-packages (from pandas<3,>=1.3.0->streamlit) (2.9.0)\n",
      "Requirement already satisfied: pytz>=2020.1 in d:\\programdata\\anaconda3\\envs\\paddle_env\\lib\\site-packages (from pandas<3,>=1.3.0->streamlit) (2024.1)\n",
      "Requirement already satisfied: tzdata>=2022.7 in d:\\programdata\\anaconda3\\envs\\paddle_env\\lib\\site-packages (from pandas<3,>=1.3.0->streamlit) (2023.3)\n",
      "Requirement already satisfied: charset-normalizer<4,>=2 in d:\\programdata\\anaconda3\\envs\\paddle_env\\lib\\site-packages (from requests<3,>=2.27->streamlit) (3.3.2)\n",
      "Requirement already satisfied: idna<4,>=2.5 in d:\\programdata\\anaconda3\\envs\\paddle_env\\lib\\site-packages (from requests<3,>=2.27->streamlit) (3.7)\n",
      "Requirement already satisfied: urllib3<3,>=1.21.1 in d:\\programdata\\anaconda3\\envs\\paddle_env\\lib\\site-packages (from requests<3,>=2.27->streamlit) (2.2.2)\n",
      "Requirement already satisfied: certifi>=2017.4.17 in d:\\programdata\\anaconda3\\envs\\paddle_env\\lib\\site-packages (from requests<3,>=2.27->streamlit) (2024.7.4)\n",
      "Collecting markdown-it-py>=2.2.0 (from rich<14,>=10.14.0->streamlit)\n",
      "  Using cached https://pypi.tuna.tsinghua.edu.cn/packages/42/d7/1ec15b46af6af88f19b8e5ffea08fa375d433c998b8a7639e76935c14f1f/markdown_it_py-3.0.0-py3-none-any.whl (87 kB)\n",
      "Requirement already satisfied: pygments<3.0.0,>=2.13.0 in d:\\programdata\\anaconda3\\envs\\paddle_env\\lib\\site-packages (from rich<14,>=10.14.0->streamlit) (2.18.0)\n",
      "Collecting smmap<6,>=3.0.1 (from gitdb<5,>=4.0.1->gitpython!=3.1.19,<4,>=3.0.7->streamlit)\n",
      "  Using cached https://pypi.tuna.tsinghua.edu.cn/packages/a7/a5/10f97f73544edcdef54409f1d839f6049a0d79df68adbc1ceb24d1aaca42/smmap-5.0.1-py3-none-any.whl (24 kB)\n",
      "Requirement already satisfied: MarkupSafe>=2.0 in d:\\programdata\\anaconda3\\envs\\paddle_env\\lib\\site-packages (from jinja2->altair<6,>=4.0->streamlit) (2.1.5)\n",
      "Requirement already satisfied: attrs>=22.2.0 in d:\\programdata\\anaconda3\\envs\\paddle_env\\lib\\site-packages (from jsonschema>=3.0->altair<6,>=4.0->streamlit) (23.1.0)\n",
      "Requirement already satisfied: jsonschema-specifications>=2023.03.6 in d:\\programdata\\anaconda3\\envs\\paddle_env\\lib\\site-packages (from jsonschema>=3.0->altair<6,>=4.0->streamlit) (2023.12.1)\n",
      "Requirement already satisfied: referencing>=0.28.4 in d:\\programdata\\anaconda3\\envs\\paddle_env\\lib\\site-packages (from jsonschema>=3.0->altair<6,>=4.0->streamlit) (0.35.1)\n",
      "Requirement already satisfied: rpds-py>=0.7.1 in d:\\programdata\\anaconda3\\envs\\paddle_env\\lib\\site-packages (from jsonschema>=3.0->altair<6,>=4.0->streamlit) (0.10.6)\n",
      "Collecting mdurl~=0.1 (from markdown-it-py>=2.2.0->rich<14,>=10.14.0->streamlit)\n",
      "  Using cached https://pypi.tuna.tsinghua.edu.cn/packages/b3/38/89ba8ad64ae25be8de66a6d463314cf1eb366222074cfda9ee839c56a4b4/mdurl-0.1.2-py3-none-any.whl (10.0 kB)\n",
      "Requirement already satisfied: six>=1.5 in d:\\programdata\\anaconda3\\envs\\paddle_env\\lib\\site-packages (from python-dateutil>=2.8.2->pandas<3,>=1.3.0->streamlit) (1.16.0)\n",
      "Installing collected packages: watchdog, toml, tenacity, smmap, pyarrow, narwhals, mdurl, cachetools, pydeck, markdown-it-py, gitdb, rich, gitpython, altair, streamlit\n",
      "  Attempting uninstall: tenacity\n",
      "    Found existing installation: tenacity 9.0.0\n",
      "    Uninstalling tenacity-9.0.0:\n",
      "      Successfully uninstalled tenacity-9.0.0\n",
      "Successfully installed altair-5.4.1 cachetools-5.5.0 gitdb-4.0.11 gitpython-3.1.43 markdown-it-py-3.0.0 mdurl-0.1.2 narwhals-1.6.0 pyarrow-17.0.0 pydeck-0.9.1 rich-13.8.0 smmap-5.0.1 streamlit-1.38.0 tenacity-8.5.0 toml-0.10.2 watchdog-4.0.2\n"
     ]
    },
    {
     "name": "stderr",
     "output_type": "stream",
     "text": [
      "WARNING: Ignoring invalid distribution -atplotlib (d:\\programdata\\anaconda3\\envs\\paddle_env\\lib\\site-packages)\n",
      "WARNING: Ignoring invalid distribution -atplotlib (d:\\programdata\\anaconda3\\envs\\paddle_env\\lib\\site-packages)\n"
     ]
    }
   ],
   "source": [
    "! pip install streamlit"
   ]
  },
  {
   "cell_type": "code",
   "execution_count": 15,
   "metadata": {},
   "outputs": [
    {
     "name": "stderr",
     "output_type": "stream",
     "text": [
      "2024-08-31 21:01:13.900 Thread 'MainThread': missing ScriptRunContext! This warning can be ignored when running in bare mode.\n",
      "2024-08-31 21:01:13.900 Thread 'MainThread': missing ScriptRunContext! This warning can be ignored when running in bare mode.\n",
      "2024-08-31 21:01:13.902 Thread 'MainThread': missing ScriptRunContext! This warning can be ignored when running in bare mode.\n",
      "2024-08-31 21:01:13.902 Thread 'MainThread': missing ScriptRunContext! This warning can be ignored when running in bare mode.\n",
      "2024-08-31 21:01:13.903 Thread 'MainThread': missing ScriptRunContext! This warning can be ignored when running in bare mode.\n",
      "2024-08-31 21:01:13.904 Thread 'MainThread': missing ScriptRunContext! This warning can be ignored when running in bare mode.\n",
      "2024-08-31 21:01:13.904 Thread 'MainThread': missing ScriptRunContext! This warning can be ignored when running in bare mode.\n",
      "2024-08-31 21:01:13.905 Thread 'MainThread': missing ScriptRunContext! This warning can be ignored when running in bare mode.\n",
      "2024-08-31 21:01:13.905 Thread 'MainThread': missing ScriptRunContext! This warning can be ignored when running in bare mode.\n",
      "2024-08-31 21:01:13.906 Thread 'MainThread': missing ScriptRunContext! This warning can be ignored when running in bare mode.\n",
      "2024-08-31 21:01:13.907 Thread 'MainThread': missing ScriptRunContext! This warning can be ignored when running in bare mode.\n",
      "2024-08-31 21:01:13.908 Thread 'MainThread': missing ScriptRunContext! This warning can be ignored when running in bare mode.\n",
      "2024-08-31 21:01:13.908 Thread 'MainThread': missing ScriptRunContext! This warning can be ignored when running in bare mode.\n",
      "2024-08-31 21:01:13.909 Thread 'MainThread': missing ScriptRunContext! This warning can be ignored when running in bare mode.\n",
      "2024-08-31 21:01:13.909 Thread 'MainThread': missing ScriptRunContext! This warning can be ignored when running in bare mode.\n",
      "2024-08-31 21:01:13.910 Thread 'MainThread': missing ScriptRunContext! This warning can be ignored when running in bare mode.\n",
      "2024-08-31 21:01:13.911 Thread 'MainThread': missing ScriptRunContext! This warning can be ignored when running in bare mode.\n",
      "2024-08-31 21:01:13.911 Thread 'MainThread': missing ScriptRunContext! This warning can be ignored when running in bare mode.\n",
      "2024-08-31 21:01:13.912 Thread 'MainThread': missing ScriptRunContext! This warning can be ignored when running in bare mode.\n",
      "2024-08-31 21:01:13.912 Thread 'MainThread': missing ScriptRunContext! This warning can be ignored when running in bare mode.\n",
      "2024-08-31 21:01:13.913 Thread 'MainThread': missing ScriptRunContext! This warning can be ignored when running in bare mode.\n",
      "2024-08-31 21:01:13.913 Thread 'MainThread': missing ScriptRunContext! This warning can be ignored when running in bare mode.\n",
      "2024-08-31 21:01:13.914 Thread 'MainThread': missing ScriptRunContext! This warning can be ignored when running in bare mode.\n",
      "2024-08-31 21:01:13.916 Thread 'MainThread': missing ScriptRunContext! This warning can be ignored when running in bare mode.\n",
      "2024-08-31 21:01:13.916 Thread 'MainThread': missing ScriptRunContext! This warning can be ignored when running in bare mode.\n",
      "2024-08-31 21:01:13.918 Thread 'MainThread': missing ScriptRunContext! This warning can be ignored when running in bare mode.\n",
      "2024-08-31 21:01:13.919 Thread 'MainThread': missing ScriptRunContext! This warning can be ignored when running in bare mode.\n",
      "2024-08-31 21:01:13.920 Thread 'MainThread': missing ScriptRunContext! This warning can be ignored when running in bare mode.\n",
      "2024-08-31 21:01:13.921 Thread 'MainThread': missing ScriptRunContext! This warning can be ignored when running in bare mode.\n",
      "2024-08-31 21:01:13.921 Thread 'MainThread': missing ScriptRunContext! This warning can be ignored when running in bare mode.\n",
      "2024-08-31 21:01:13.922 Thread 'MainThread': missing ScriptRunContext! This warning can be ignored when running in bare mode.\n"
     ]
    }
   ],
   "source": [
    "import streamlit as st\n",
    "import joblib\n",
    "import numpy as np\n",
    "import pandas as pd\n",
    "import shap\n",
    "import matplotlib.pyplot as plt\n",
    "\n",
    "# Load the model\n",
    "model = joblib.load('XGBoost.pkl')\n",
    "\n",
    "# Define feature options\n",
    "\n",
    "# Define feature names\n",
    "feature_names = ['C','N%','SM','PR','IM']\n",
    "\n",
    "# Streamlit user interface\n",
    "st.title(\" Semen quality test Predictor\")\n",
    "\n",
    "# 精液浓度: numerical input\n",
    "C = st.number_input(\"C:\", min_value=1, max_value=300, value=50)\n",
    "\n",
    "# N: categorical selection\n",
    "N = st.number_input(\"N%:\", min_value=1, max_value=10, value=3)\n",
    "\n",
    "# SM: categorical selection\n",
    "SM =st.number_input(\"SM:\", min_value=10, max_value=100, value=50)\n",
    "\n",
    "# PR: numerical input\n",
    "PR = st.number_input(\"PR:\", min_value=1, max_value=150, value=30)\n",
    "\n",
    "# IM: numerical input\n",
    "IM = st.number_input(\"IM:\", min_value=0, max_value=100, value=50)\n",
    "\n",
    "\n",
    "# Process inputs and make predictions\n",
    "feature_values = [C, N, SM, PR, IM]\n",
    "features = np.array([feature_values])\n",
    "\n",
    "if st.button(\"Predict\"):  \n",
    "    # Predict class and probabilities  \n",
    "    predicted_class = model.predict(features)[0]  \n",
    "    predicted_proba = model.predict_proba(features)[0]  \n",
    "  \n",
    "    # Display prediction results  \n",
    "    class_labels = ['Astheno', 'AsthenoTerato', 'Normal', 'OAT', 'Terato'] # 假设的类别标签  \n",
    "    predicted_class_label = class_labels[predicted_class]  \n",
    "    st.write(f\"**Predicted Class**: {predicted_class_label}\")  \n",
    "    st.write(f\"**Prediction Probabilities**: {predicted_proba}\")  \n",
    "  \n",
    "    # Generate advice based on prediction results  \n",
    "    probability = predicted_proba[predicted_class] * 100  \n",
    "  \n",
    "    # 根据不同的类别生成不同的建议  \n",
    "    advice = \"\"  \n",
    "    if predicted_class == 0:  \n",
    "        advice = (  \n",
    "            f\"根据我们的模型，您属于{predicted_class_label}。模型预测您属于此类的概率为{probability:.1f}%。\"  \n",
    "            \"具体建议需要根据该类别的含义来确定。\"  \n",
    "        )  \n",
    "    elif predicted_class == 1:  \n",
    "        advice = (  \n",
    "            f\"根据我们的模型，您可能面临较高的风险（属于{predicted_class_label}）。\"  \n",
    "            f\"模型预测您属于此类的概率为{probability:.1f}%。\"  \n",
    "            \"建议您立即咨询相关专家以获取进一步评估和治疗建议。\"  \n",
    "        )  \n",
    "    elif predicted_class == 2:  \n",
    "        advice = (  \n",
    "            f\"根据我们的模型，您属于{predicted_class_label}的概率较高，为{probability:.1f}%。\"  \n",
    "            \"请继续关注您的健康状况，并根据需要寻求医疗建议。\"  \n",
    "        )  \n",
    "    elif predicted_class == 3:  \n",
    "        advice = (  \n",
    "            f\"模型预测您属于{predicted_class_label}的概率为{probability:.1f}%。\"  \n",
    "            \"请注意保持健康的生活方式，并根据需要咨询医生。\"  \n",
    "        )  \n",
    "    elif predicted_class == 4:  \n",
    "        advice = (  \n",
    "            f\"模型预测您属于{predicted_class_label}的概率为{probability:.1f}%。\"  \n",
    "            \"具体的行动建议需要根据该类别的具体情况来确定。\"  \n",
    "        )  \n",
    "    else:  \n",
    "        advice = \"无法识别的类别，请检查模型输出。\"  \n",
    "  \n",
    "    st.write(advice)\n",
    "\n",
    "    # Calculate SHAP values and display force plot\n",
    "    explainer = shap.TreeExplainer(model)\n",
    "    shap_values = explainer.shap_values(pd.DataFrame([feature_values], columns=feature_names))\n",
    "\n",
    "    shap.force_plot(explainer.expected_value[predicted_class], shap_values[:,:,predicted_class], pd.DataFrame([feature_values], columns=feature_names), matplotlib=True)\n",
    "    plt.savefig(\"shap_force_plot.png\", bbox_inches='tight', dpi=1200)\n",
    "\n",
    "    st.image(\"shap_force_plot.png\")"
   ]
  }
 ],
 "metadata": {
  "kernelspec": {
   "display_name": "paddle_env",
   "language": "python",
   "name": "python3"
  },
  "language_info": {
   "codemirror_mode": {
    "name": "ipython",
    "version": 3
   },
   "file_extension": ".py",
   "mimetype": "text/x-python",
   "name": "python",
   "nbconvert_exporter": "python",
   "pygments_lexer": "ipython3",
   "version": "3.10.14"
  },
  "orig_nbformat": 4
 },
 "nbformat": 4,
 "nbformat_minor": 2
}
